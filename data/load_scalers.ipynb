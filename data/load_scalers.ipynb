{
 "cells": [
  {
   "cell_type": "code",
   "execution_count": 29,
   "metadata": {},
   "outputs": [],
   "source": [
    "import numpy as np\n",
    "import pandas as pd\n",
    "from sklearn.preprocessing import MinMaxScaler, StandardScaler\n",
    "import matplotlib.pyplot as plt\n",
    "import pickle\n",
    "from data_handler import import_dataset"
   ]
  },
  {
   "cell_type": "code",
   "execution_count": 30,
   "metadata": {},
   "outputs": [
    {
     "data": {
      "text/html": [
       "<div>\n",
       "<style scoped>\n",
       "    .dataframe tbody tr th:only-of-type {\n",
       "        vertical-align: middle;\n",
       "    }\n",
       "\n",
       "    .dataframe tbody tr th {\n",
       "        vertical-align: top;\n",
       "    }\n",
       "\n",
       "    .dataframe thead th {\n",
       "        text-align: right;\n",
       "    }\n",
       "</style>\n",
       "<table border=\"1\" class=\"dataframe\">\n",
       "  <thead>\n",
       "    <tr style=\"text-align: right;\">\n",
       "      <th></th>\n",
       "      <th>Average Score</th>\n",
       "      <th>Average SG Total</th>\n",
       "      <th>Points</th>\n",
       "    </tr>\n",
       "  </thead>\n",
       "  <tbody>\n",
       "    <tr>\n",
       "      <th>0</th>\n",
       "      <td>-1.869468</td>\n",
       "      <td>1.446323</td>\n",
       "      <td>0.523357</td>\n",
       "    </tr>\n",
       "    <tr>\n",
       "      <th>1</th>\n",
       "      <td>-0.236035</td>\n",
       "      <td>0.272547</td>\n",
       "      <td>0.828258</td>\n",
       "    </tr>\n",
       "    <tr>\n",
       "      <th>2</th>\n",
       "      <td>-0.702730</td>\n",
       "      <td>0.757305</td>\n",
       "      <td>0.859190</td>\n",
       "    </tr>\n",
       "    <tr>\n",
       "      <th>3</th>\n",
       "      <td>-1.299699</td>\n",
       "      <td>1.141371</td>\n",
       "      <td>0.362069</td>\n",
       "    </tr>\n",
       "    <tr>\n",
       "      <th>4</th>\n",
       "      <td>0.164808</td>\n",
       "      <td>-0.123027</td>\n",
       "      <td>-0.464257</td>\n",
       "    </tr>\n",
       "    <tr>\n",
       "      <th>...</th>\n",
       "      <td>...</td>\n",
       "      <td>...</td>\n",
       "      <td>...</td>\n",
       "    </tr>\n",
       "    <tr>\n",
       "      <th>1673</th>\n",
       "      <td>-1.369846</td>\n",
       "      <td>1.227679</td>\n",
       "      <td>2.204730</td>\n",
       "    </tr>\n",
       "    <tr>\n",
       "      <th>1674</th>\n",
       "      <td>1.108219</td>\n",
       "      <td>-1.634839</td>\n",
       "      <td>-1.180111</td>\n",
       "    </tr>\n",
       "    <tr>\n",
       "      <th>1675</th>\n",
       "      <td>0.043124</td>\n",
       "      <td>-0.078435</td>\n",
       "      <td>-0.170403</td>\n",
       "    </tr>\n",
       "    <tr>\n",
       "      <th>1676</th>\n",
       "      <td>1.819715</td>\n",
       "      <td>-1.788753</td>\n",
       "      <td>-1.080687</td>\n",
       "    </tr>\n",
       "    <tr>\n",
       "      <th>1677</th>\n",
       "      <td>1.373062</td>\n",
       "      <td>-1.482363</td>\n",
       "      <td>-1.091734</td>\n",
       "    </tr>\n",
       "  </tbody>\n",
       "</table>\n",
       "<p>1674 rows × 3 columns</p>\n",
       "</div>"
      ],
      "text/plain": [
       "      Average Score  Average SG Total    Points\n",
       "0         -1.869468          1.446323  0.523357\n",
       "1         -0.236035          0.272547  0.828258\n",
       "2         -0.702730          0.757305  0.859190\n",
       "3         -1.299699          1.141371  0.362069\n",
       "4          0.164808         -0.123027 -0.464257\n",
       "...             ...               ...       ...\n",
       "1673      -1.369846          1.227679  2.204730\n",
       "1674       1.108219         -1.634839 -1.180111\n",
       "1675       0.043124         -0.078435 -0.170403\n",
       "1676       1.819715         -1.788753 -1.080687\n",
       "1677       1.373062         -1.482363 -1.091734\n",
       "\n",
       "[1674 rows x 3 columns]"
      ]
     },
     "execution_count": 30,
     "metadata": {},
     "output_type": "execute_result"
    }
   ],
   "source": [
    "X, y = import_dataset('pgaTourData.csv', split_train_test=False, numpy_format=False)\n",
    "X = X[['Average Score', 'Average SG Total', 'Points']]\n",
    "\n",
    "X"
   ]
  },
  {
   "cell_type": "code",
   "execution_count": 31,
   "metadata": {},
   "outputs": [],
   "source": [
    "scaler = MinMaxScaler()\n",
    "scaler.fit(X)\n",
    "\n",
    "\n",
    "file = open('minMaxScaler.pkl', 'wb')\n",
    "\n",
    "pickle.dump(scaler, file)\n",
    "\n",
    "# close the file\n",
    "file.close()\n"
   ]
  },
  {
   "cell_type": "code",
   "execution_count": 32,
   "metadata": {},
   "outputs": [],
   "source": [
    "scaler = StandardScaler()\n",
    "scaler.fit(X)\n",
    "\n",
    "\n",
    "file = open('standardScaler.pkl', 'wb')\n",
    "\n",
    "pickle.dump(scaler, file)\n",
    "\n",
    "# close the file\n",
    "file.close()\n",
    "\n"
   ]
  },
  {
   "cell_type": "code",
   "execution_count": null,
   "metadata": {},
   "outputs": [],
   "source": []
  }
 ],
 "metadata": {
  "kernelspec": {
   "display_name": "Python 3.9.7 ('base')",
   "language": "python",
   "name": "python3"
  },
  "language_info": {
   "codemirror_mode": {
    "name": "ipython",
    "version": 3
   },
   "file_extension": ".py",
   "mimetype": "text/x-python",
   "name": "python",
   "nbconvert_exporter": "python",
   "pygments_lexer": "ipython3",
   "version": "3.9.7"
  },
  "orig_nbformat": 4,
  "vscode": {
   "interpreter": {
    "hash": "e5bc95e98aae8e8660e5c1aff5e536338d0a5ad53799cc4cc0c593ca43767c4d"
   }
  }
 },
 "nbformat": 4,
 "nbformat_minor": 2
}
